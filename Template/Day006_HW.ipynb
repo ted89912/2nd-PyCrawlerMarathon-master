{
 "cells": [
  {
   "cell_type": "markdown",
   "metadata": {},
   "source": [
    "# API 資料串接 - 以 知乎 API 實作範例\n",
    "\n",
    "\n",
    "\n",
    "* 了解知乎 API 使用方式與回傳內容\n",
    "* 撰寫程式存取 API 且添加標頭\n",
    "\n",
    "\n"
   ]
  },
  {
   "cell_type": "markdown",
   "metadata": {},
   "source": [
    "## 作業目標\n",
    "\n",
    "* 根據範例提供的 API ，完成以下問題：\n",
    "\n",
    "    1. 取出知乎問題發問時間\n",
    "    2. 取出第一筆與最後一筆回答的時間\n"
   ]
  },
  {
   "cell_type": "markdown",
   "metadata": {},
   "source": [
    "### 1. 取出知乎問題發問時間"
   ]
  },
  {
   "cell_type": "code",
   "execution_count": 61,
   "metadata": {},
   "outputs": [
    {
     "name": "stdout",
     "output_type": "stream",
     "text": [
      "知乎提問時間 : Mon Feb  6 22:10:29 2017\n"
     ]
    }
   ],
   "source": [
    "# 1. 取出知乎問題發問時間\n",
    "\n",
    "import requests\n",
    "import json\n",
    "import time\n",
    "r = requests.get(\"https://www.zhihu.com/api/v4/questions/55493026\",headers = {\"user-agent\":\"Mozilla/5\"}) \n",
    "response = r.text\n",
    "#print(response)\n",
    "\n",
    "data = json.loads(response)\n",
    "t = data['created']\n",
    "#print(t)\n",
    "t = time.ctime(t)\n",
    "print(\"知乎提問時間 :\",t)\n",
    "\n",
    "\n",
    "\n"
   ]
  },
  {
   "cell_type": "markdown",
   "metadata": {},
   "source": [
    "### 2. 取出第一筆與最後一筆回答的時間"
   ]
  },
  {
   "cell_type": "code",
   "execution_count": 66,
   "metadata": {},
   "outputs": [
    {
     "name": "stdout",
     "output_type": "stream",
     "text": [
      "第一筆回答的時間 : Mon Apr  1 10:17:08 2019\n",
      "最後一筆回答的時間 : Tue Oct 29 11:07:06 2019\n"
     ]
    }
   ],
   "source": [
    "# 2. 取出第一筆與最後一筆回答的時間\n",
    "r = requests.get(\"https://www.zhihu.com/api/v4/questions/55493026/answers\",headers = {\"user-agent\":\"Mozilla/5\"}) \n",
    "response = r.text\n",
    "#print(response)\n",
    "data = json.loads(response)\n",
    "#print(len(data[\"data\"]))\n",
    "#target = (data[\"data\"][0])\n",
    "#print(target)\n",
    "\n",
    "for i in range(len(data[\"data\"])):\n",
    "    if i == 0  :\n",
    "        t = data[\"data\"][i][\"created_time\"]\n",
    "        t = time.ctime(t)\n",
    "        print(\"第一筆回答的時間 :\",t)\n",
    "    elif i == (len(data[\"data\"])-1) :\n",
    "        t = (data[\"data\"][i][\"created_time\"])\n",
    "        t = time.ctime(t)\n",
    "        print(\"最後一筆回答的時間 :\",t)\n",
    "   \n"
   ]
  },
  {
   "cell_type": "code",
   "execution_count": null,
   "metadata": {},
   "outputs": [],
   "source": []
  },
  {
   "cell_type": "code",
   "execution_count": null,
   "metadata": {},
   "outputs": [],
   "source": []
  },
  {
   "cell_type": "code",
   "execution_count": null,
   "metadata": {},
   "outputs": [],
   "source": []
  }
 ],
 "metadata": {
  "kernelspec": {
   "display_name": "Python 3",
   "language": "python",
   "name": "python3"
  },
  "language_info": {
   "codemirror_mode": {
    "name": "ipython",
    "version": 3
   },
   "file_extension": ".py",
   "mimetype": "text/x-python",
   "name": "python",
   "nbconvert_exporter": "python",
   "pygments_lexer": "ipython3",
   "version": "3.7.3"
  }
 },
 "nbformat": 4,
 "nbformat_minor": 2
}
